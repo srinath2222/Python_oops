{
 "cells": [
  {
   "cell_type": "markdown",
   "id": "19500b1b-4fd7-4a0c-b277-c84cb28752e3",
   "metadata": {},
   "source": [
    "# Classes -"
   ]
  },
  {
   "cell_type": "code",
   "execution_count": 1,
   "id": "1f796852-19a6-4649-9fe5-6a6bc25c2e70",
   "metadata": {},
   "outputs": [
    {
     "data": {
      "text/plain": [
       "8"
      ]
     },
     "execution_count": 1,
     "metadata": {},
     "output_type": "execute_result"
    }
   ],
   "source": [
    "# A Class is like an object constructor, or a \"blueprint\" for creating objects.\n",
    "\n",
    "class operation: # creating a class\n",
    "\n",
    "    def sum(self,a,b): # Method/Function\n",
    "        self.a=a\n",
    "        self.b=b\n",
    "        sum=a+b\n",
    "        return sum\n",
    "\n",
    "obj=operation()  # creating an object\n",
    "obj.sum(3,5)"
   ]
  },
  {
   "cell_type": "markdown",
   "id": "3826433e-bfc0-4dcd-9749-001be582d25f",
   "metadata": {},
   "source": [
    "### The __init__() Function :"
   ]
  },
  {
   "cell_type": "code",
   "execution_count": 123,
   "id": "89fce2f1-4e42-40e0-ab3a-bf193ce2f571",
   "metadata": {},
   "outputs": [
    {
     "name": "stdout",
     "output_type": "stream",
     "text": [
      "Srinath\n",
      "22\n"
     ]
    }
   ],
   "source": [
    "# All classes have a function called __init__(), which is always executed when the class is being initiated.\n",
    "# Use the __init__() function to assign values to object properties, or other operations that are necessary to do when the object is being created.\n",
    "\n",
    "# Create a class named Person, use the __init__() function to assign values for name and age:\n",
    "class Person:\n",
    "  def __init__(self, name, age):\n",
    "    self.name = name\n",
    "    self.age = age\n",
    "\n",
    "p1 = Person(\"Srinath\", 22)\n",
    "\n",
    "print(p1.name)\n",
    "print(p1.age)"
   ]
  },
  {
   "cell_type": "markdown",
   "id": "dff20e2b-75ce-4234-bbcd-de6a5861aea9",
   "metadata": {},
   "source": [
    "### The __str__() Function -"
   ]
  },
  {
   "cell_type": "code",
   "execution_count": 126,
   "id": "5749ee68-7e7a-487b-85f1-ca562cc77f98",
   "metadata": {},
   "outputs": [],
   "source": [
    "# The __str__() function controls what should be returned when the class object is represented as a string.\n",
    "# If the __str__() function is not set, the string representation of the object is returned:\n",
    "\n",
    "# The string representation of an object WITHOUT the __str__() function:\n",
    "class Person:\n",
    "  def __init__(self, name, age):\n",
    "    self.name = name\n",
    "    self.age = age\n",
    "\n",
    "p1 = Person(\"Srinath\", 22)\n"
   ]
  },
  {
   "cell_type": "code",
   "execution_count": 128,
   "id": "d8940730-8990-4d34-acce-9514f0e1b3a0",
   "metadata": {},
   "outputs": [],
   "source": [
    "# The string representation of an object WITH the __str__() function:\n",
    "class Person:\n",
    "  def __init__(self, name, age):\n",
    "    self.name = name\n",
    "    self.age = age\n",
    "\n",
    "  def __str__(self):\n",
    "    return f\"{self.name}({self.age})\"\n",
    "\n",
    "p1 = Person(\"John\", 36)\n"
   ]
  },
  {
   "cell_type": "markdown",
   "id": "2e4a2875-ff0a-4d12-beb3-38cf5bdadac1",
   "metadata": {},
   "source": [
    "### Object Methods -"
   ]
  },
  {
   "cell_type": "code",
   "execution_count": 131,
   "id": "dcd7aaf1-d01b-4303-96b0-1274df6546c0",
   "metadata": {},
   "outputs": [
    {
     "name": "stdout",
     "output_type": "stream",
     "text": [
      "Hello my name is Srinath\n"
     ]
    }
   ],
   "source": [
    "# Objects can also contain methods. Methods in objects are functions that belong to the object.\n",
    "\n",
    "#Insert a function that prints a greeting, and execute it on the p1 object:\n",
    "class Person:\n",
    "  def __init__(self, name, age):\n",
    "    self.name = name\n",
    "    self.age = age\n",
    "\n",
    "  def myfunc(self):\n",
    "    print(\"Hello my name is \" + self.name)\n",
    "\n",
    "p1 = Person(\"Srinath\", 22)\n",
    "p1.myfunc()"
   ]
  },
  {
   "cell_type": "markdown",
   "id": "c0b8ba4e-a466-4d7a-ac0d-ec4e74b377d1",
   "metadata": {},
   "source": [
    "### The self Parameter -"
   ]
  },
  {
   "cell_type": "code",
   "execution_count": 134,
   "id": "15a13cd4-3d04-4444-af94-6845f0ab7f06",
   "metadata": {},
   "outputs": [
    {
     "name": "stdout",
     "output_type": "stream",
     "text": [
      "Hello my name is Srinath\n"
     ]
    },
    {
     "data": {
      "text/plain": [
       "36"
      ]
     },
     "execution_count": 134,
     "metadata": {},
     "output_type": "execute_result"
    }
   ],
   "source": [
    "# The self parameter is a reference to the current instance of the class, and is used to access variables that belongs to the class.\n",
    "#It does not have to be named self , you can call it whatever you like, but it has to be the first parameter of any function in the class:\n",
    "\n",
    "# Note: The self parameter is a reference to the current instance of the class, and is used to access variables that belong to the class.\n",
    "\n",
    "#Use the words mysillyobject and abc instead of self:\n",
    "class Person:\n",
    "  def __init__(mysillyobject, name, age):\n",
    "    mysillyobject.name = name\n",
    "    mysillyobject.age = age\n",
    "\n",
    "  def myfunc(abc):\n",
    "    print(\"Hello my name is \" + abc.name)\n",
    "\n",
    "p1 = Person(\"Srinath\", 36)\n",
    "p1.myfunc()\n",
    "\n",
    "p1.age"
   ]
  },
  {
   "cell_type": "markdown",
   "id": "1fa9d619-0993-4e07-889a-af468f4a2d2d",
   "metadata": {},
   "source": [
    "### Modify Object Properties -"
   ]
  },
  {
   "cell_type": "code",
   "execution_count": 137,
   "id": "95d1e224-61b2-4d05-859f-853f481710f0",
   "metadata": {},
   "outputs": [
    {
     "data": {
      "text/plain": [
       "40"
      ]
     },
     "execution_count": 137,
     "metadata": {},
     "output_type": "execute_result"
    }
   ],
   "source": [
    "# we can modify the object properties.\n",
    "\n",
    "p1.age=40\n",
    "p1.age"
   ]
  },
  {
   "cell_type": "markdown",
   "id": "7a2eb803-a85a-4856-a554-11c2a7a16495",
   "metadata": {},
   "source": [
    "### Delete Object Properties -"
   ]
  },
  {
   "cell_type": "code",
   "execution_count": 148,
   "id": "3e02a45a-52ee-4055-a18e-4e4158d66e7e",
   "metadata": {},
   "outputs": [
    {
     "ename": "NameError",
     "evalue": "name 'p1' is not defined",
     "output_type": "error",
     "traceback": [
      "\u001b[1;31m---------------------------------------------------------------------------\u001b[0m",
      "\u001b[1;31mNameError\u001b[0m                                 Traceback (most recent call last)",
      "Cell \u001b[1;32mIn[148], line 4\u001b[0m\n\u001b[0;32m      1\u001b[0m \u001b[38;5;66;03m# You can delete properties on objects by using the del keyword:\u001b[39;00m\n\u001b[0;32m      2\u001b[0m \n\u001b[0;32m      3\u001b[0m \u001b[38;5;66;03m# Delete the age property from the p1 object:\u001b[39;00m\n\u001b[1;32m----> 4\u001b[0m \u001b[38;5;28;01mdel\u001b[39;00m p1\u001b[38;5;241m.\u001b[39mage\n",
      "\u001b[1;31mNameError\u001b[0m: name 'p1' is not defined"
     ]
    }
   ],
   "source": [
    "# You can delete properties on objects by using the del keyword:\n",
    "\n",
    "# Delete the age property from the p1 object:\n",
    "del p1.age # raises error because the age is deleted in the object."
   ]
  },
  {
   "cell_type": "markdown",
   "id": "5b06625d-bc3d-4510-81bc-f1d02be35e95",
   "metadata": {},
   "source": [
    "### Delete Objects -"
   ]
  },
  {
   "cell_type": "code",
   "execution_count": 150,
   "id": "c77cf7fc-40b1-478b-b840-a5477087b605",
   "metadata": {},
   "outputs": [
    {
     "ename": "NameError",
     "evalue": "name 'p1' is not defined",
     "output_type": "error",
     "traceback": [
      "\u001b[1;31m---------------------------------------------------------------------------\u001b[0m",
      "\u001b[1;31mNameError\u001b[0m                                 Traceback (most recent call last)",
      "Cell \u001b[1;32mIn[150], line 4\u001b[0m\n\u001b[0;32m      1\u001b[0m \u001b[38;5;66;03m# You can delete objects by using the del keyword:\u001b[39;00m\n\u001b[0;32m      2\u001b[0m \n\u001b[0;32m      3\u001b[0m \u001b[38;5;66;03m# Delete the p1 object\u001b[39;00m\n\u001b[1;32m----> 4\u001b[0m \u001b[38;5;28;01mdel\u001b[39;00m p1\n",
      "\u001b[1;31mNameError\u001b[0m: name 'p1' is not defined"
     ]
    }
   ],
   "source": [
    "# You can delete objects by using the del keyword:\n",
    "\n",
    "# Delete the p1 object\n",
    "del p1 # # raises error because the object 'p1\"  is deleted."
   ]
  },
  {
   "cell_type": "markdown",
   "id": "cf67e020-0761-44e0-b7fc-2904d99232f3",
   "metadata": {},
   "source": [
    "### The pass Statement -"
   ]
  },
  {
   "cell_type": "code",
   "execution_count": 3,
   "id": "22d35d7b-baec-47b7-8f7d-707ed19bc1d4",
   "metadata": {},
   "outputs": [],
   "source": [
    "class Person:\n",
    "  pass # To avoid the errors"
   ]
  },
  {
   "cell_type": "code",
   "execution_count": 39,
   "id": "40632b01-49fc-4bf7-814d-2dc1576e3af6",
   "metadata": {},
   "outputs": [
    {
     "name": "stdout",
     "output_type": "stream",
     "text": [
      "A init called\n",
      "A init called\n",
      "B init called\n"
     ]
    }
   ],
   "source": [
    "# Python program to\n",
    "# demonstrate init with\n",
    "# inheritance\n",
    "\n",
    "class A(object):\n",
    "    def __init__(self, something):\n",
    "        print(\"A init called\")\n",
    "        self.something = something\n",
    "\n",
    "\n",
    "class B(A):\n",
    "    def __init__(self, something):\n",
    "        # Calling init of parent class\n",
    "        A.__init__(self, something)\n",
    "        print(\"B init called\")\n",
    "        self.something = something\n",
    "\n",
    "obj1 = A(\"Something\")\n",
    "obj2 = B(\"Something\")"
   ]
  },
  {
   "cell_type": "code",
   "execution_count": null,
   "id": "0608f267-aae7-4083-a074-27acf7495d1b",
   "metadata": {},
   "outputs": [],
   "source": []
  }
 ],
 "metadata": {
  "kernelspec": {
   "display_name": "Python 3 (ipykernel)",
   "language": "python",
   "name": "python3"
  },
  "language_info": {
   "codemirror_mode": {
    "name": "ipython",
    "version": 3
   },
   "file_extension": ".py",
   "mimetype": "text/x-python",
   "name": "python",
   "nbconvert_exporter": "python",
   "pygments_lexer": "ipython3",
   "version": "3.12.4"
  }
 },
 "nbformat": 4,
 "nbformat_minor": 5
}
