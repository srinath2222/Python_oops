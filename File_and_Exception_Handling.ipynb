{
 "cells": [
  {
   "cell_type": "markdown",
   "id": "9f679374-6858-43a1-9ac8-954c91fa4403",
   "metadata": {},
   "source": [
    "# File Handling :"
   ]
  },
  {
   "cell_type": "code",
   "execution_count": null,
   "id": "a1fdb330-0052-4404-86f0-b05dbdf148a0",
   "metadata": {},
   "outputs": [],
   "source": [
    "# File handling involves performing operations like reading and writing tp files."
   ]
  },
  {
   "cell_type": "markdown",
   "id": "ae7f5fd9-c0b5-4ce5-9723-7c8f40da7c78",
   "metadata": {},
   "source": [
    "### Opening a file - "
   ]
  },
  {
   "cell_type": "code",
   "execution_count": 191,
   "id": "77027f64-6262-4da4-8c9d-b4402532cc07",
   "metadata": {},
   "outputs": [],
   "source": [
    "# To open a file we can use 'open()' function. we can also specify the mode in which the file should be open.\n",
    "\n",
    "file=open('Python.txt','r')"
   ]
  },
  {
   "cell_type": "markdown",
   "id": "cc82b075-ea1d-499d-9e71-30e966d1c30d",
   "metadata": {},
   "source": [
    "### Reading from a file -"
   ]
  },
  {
   "cell_type": "code",
   "execution_count": 177,
   "id": "75580c36-7bfe-4a1d-8377-6b175fb04420",
   "metadata": {},
   "outputs": [
    {
     "name": "stdout",
     "output_type": "stream",
     "text": [
      "1. What is Python?  \n",
      "Python is a high-level, interpreted programming language known for its simplicity and readability. It \n",
      "supports a wide range of applications, from web development to data analysis and artificial intelligence. \n",
      "2. What are the advantages of using Python? \n",
      "Python offers advantages such as clear syntax, vast libraries, cross-platform compatibility, and a strong \n",
      "community, making it suitable for rapid development and diverse projects. \n",
      "3. Differentiate between Python 2 and Python 3. \n",
      "Python 2 and Python 3 are two major versions of the language. Python 3 introduced syntax changes and \n",
      "improvements, including better Unicode support, print as a function, and enhanced division behavior. \n",
      "4. How do you comment in Python? \n",
      "Use the \"#\" symbol for single-line comments and triple quotes (''' or \"\"\") for multi-line comments. \n",
      "5. Explain the term \"Pythonic\" code. \n",
      "Pythonic code follows the language's idioms and style conventions, emphasizing readability and simplicity. \n",
      "6. What is a Python virtual environment? \n",
      "A virtual environment isolates Python packages and dependencies, allowing developers to manage project\n",
      "specific dependencies separately. \n",
      "7. How do you create a function in Python? \n",
      "Use the \"def\" keyword followed by the function name, parameters, and a colon. Define the function's body \n",
      "and optionally return a value.\n"
     ]
    }
   ],
   "source": [
    "# to read the entire file\n",
    "\n",
    "content=file.read()\n",
    "print(content)"
   ]
  },
  {
   "cell_type": "code",
   "execution_count": 185,
   "id": "e34da3b0-551d-4118-b392-b233b8ccbba7",
   "metadata": {},
   "outputs": [
    {
     "name": "stdout",
     "output_type": "stream",
     "text": [
      "1. What is Python?  \n",
      "Python is a high-level, interpreted programming language known for its simplicity and readability. It \n",
      "supports a wide range of applications, from web development to data analysis and artificial intelligence. \n",
      "2. What are the advantages of using Python? \n",
      "Python offers advantages such as clear syntax, vast libraries, cross-platform compatibility, and a strong \n",
      "community, making it suitable for rapid development and diverse projects. \n",
      "3. Differentiate between Python 2 and Python 3. \n",
      "Python 2 and Python 3 are two major versions of the language. Python 3 introduced syntax changes and \n",
      "improvements, including better Unicode support, print as a function, and enhanced division behavior. \n",
      "4. How do you comment in Python? \n",
      "Use the \"#\" symbol for single-line comments and triple quotes (''' or \"\"\") for multi-line comments. \n",
      "5. Explain the term \"Pythonic\" code. \n",
      "Pythonic code follows the language's idioms and style conventions, emphasizing readability and simplicity. \n",
      "6. What is a Python virtual environment? \n",
      "A virtual environment isolates Python packages and dependencies, allowing developers to manage project\n",
      "specific dependencies separately. \n",
      "7. How do you create a function in Python? \n",
      "Use the \"def\" keyword followed by the function name, parameters, and a colon. Define the function's body \n",
      "and optionally return a value."
     ]
    }
   ],
   "source": [
    "# to read file line by line\n",
    "\n",
    "line=file.readline()\n",
    "while line:\n",
    "    print(line, end='')\n",
    "    line=file.readline()"
   ]
  },
  {
   "cell_type": "code",
   "execution_count": 189,
   "id": "9bfe7add-2e4c-4bc6-a4e8-94cf06c73d47",
   "metadata": {},
   "outputs": [
    {
     "name": "stdout",
     "output_type": "stream",
     "text": [
      "['1. What is Python?  \\n', 'Python is a high-level, interpreted programming language known for its simplicity and readability. It \\n', 'supports a wide range of applications, from web development to data analysis and artificial intelligence. \\n', '2. What are the advantages of using Python? \\n', 'Python offers advantages such as clear syntax, vast libraries, cross-platform compatibility, and a strong \\n', 'community, making it suitable for rapid development and diverse projects. \\n', '3. Differentiate between Python 2 and Python 3. \\n', 'Python 2 and Python 3 are two major versions of the language. Python 3 introduced syntax changes and \\n', 'improvements, including better Unicode support, print as a function, and enhanced division behavior. \\n', '4. How do you comment in Python? \\n', 'Use the \"#\" symbol for single-line comments and triple quotes (\\'\\'\\' or \"\"\") for multi-line comments. \\n', '5. Explain the term \"Pythonic\" code. \\n', \"Pythonic code follows the language's idioms and style conventions, emphasizing readability and simplicity. \\n\", '6. What is a Python virtual environment? \\n', 'A virtual environment isolates Python packages and dependencies, allowing developers to manage project\\n', 'specific dependencies separately. \\n', '7. How do you create a function in Python? \\n', 'Use the \"def\" keyword followed by the function name, parameters, and a colon. Define the function\\'s body \\n', 'and optionally return a value.']\n"
     ]
    }
   ],
   "source": [
    "# to read all lines into a list.\n",
    "\n",
    "lines=file.readlines()\n",
    "print(lines)"
   ]
  },
  {
   "cell_type": "code",
   "execution_count": 193,
   "id": "f35b4992-efd2-4cd0-80ff-9420b139d599",
   "metadata": {},
   "outputs": [],
   "source": [
    "file.close()"
   ]
  },
  {
   "cell_type": "markdown",
   "id": "4c5da7fd-8378-4a3e-a982-f948175f72a1",
   "metadata": {},
   "source": [
    "### Writing to a file -"
   ]
  },
  {
   "cell_type": "code",
   "execution_count": 197,
   "id": "32827145-517e-46aa-9ee4-418cc9a1a1aa",
   "metadata": {},
   "outputs": [],
   "source": [
    "filee=open('Sython.txt', 'w')"
   ]
  },
  {
   "cell_type": "code",
   "execution_count": 163,
   "id": "9c9b50bd-57f3-4b62-840d-335b1271d7e2",
   "metadata": {},
   "outputs": [
    {
     "data": {
      "text/plain": [
       "24"
      ]
     },
     "execution_count": 163,
     "metadata": {},
     "output_type": "execute_result"
    }
   ],
   "source": [
    "filee.write('Hey ! How are you mike.\\n') "
   ]
  },
  {
   "cell_type": "code",
   "execution_count": 165,
   "id": "e6d05f93-50c5-4dda-8bf8-25f4f8e39e8e",
   "metadata": {},
   "outputs": [
    {
     "data": {
      "text/plain": [
       "53"
      ]
     },
     "execution_count": 165,
     "metadata": {},
     "output_type": "execute_result"
    }
   ],
   "source": [
    "lines=\"'Hey ! How are you Bike.\\n','Hey ! How are you Sike.\\n'\"\n",
    "filee.write(lines)"
   ]
  },
  {
   "cell_type": "markdown",
   "id": "ccf68a0c-8982-4092-98b1-5018bbf24465",
   "metadata": {},
   "source": [
    "### Closing a file -"
   ]
  },
  {
   "cell_type": "code",
   "execution_count": 201,
   "id": "79456277-6ed0-4d20-bea3-ba46b53faebd",
   "metadata": {},
   "outputs": [],
   "source": [
    "# Always close a file after completing operations to free up system resources.\n",
    "\n",
    "filee.close()"
   ]
  },
  {
   "cell_type": "markdown",
   "id": "f0fe6ccd-8057-4b75-a0d3-63799c4a578f",
   "metadata": {},
   "source": [
    "# Exception Handling in Files - "
   ]
  },
  {
   "cell_type": "code",
   "execution_count": 204,
   "id": "aa94d3af-2f5c-4f17-a896-8f53450152d9",
   "metadata": {},
   "outputs": [
    {
     "name": "stdout",
     "output_type": "stream",
     "text": [
      "1. What is Python?  \n",
      "Python is a high-level, interpreted programming language known for its simplicity and readability. It \n",
      "supports a wide range of applications, from web development to data analysis and artificial intelligence. \n",
      "2. What are the advantages of using Python? \n",
      "Python offers advantages such as clear syntax, vast libraries, cross-platform compatibility, and a strong \n",
      "community, making it suitable for rapid development and diverse projects. \n",
      "3. Differentiate between Python 2 and Python 3. \n",
      "Python 2 and Python 3 are two major versions of the language. Python 3 introduced syntax changes and \n",
      "improvements, including better Unicode support, print as a function, and enhanced division behavior. \n",
      "4. How do you comment in Python? \n",
      "Use the \"#\" symbol for single-line comments and triple quotes (''' or \"\"\") for multi-line comments. \n",
      "5. Explain the term \"Pythonic\" code. \n",
      "Pythonic code follows the language's idioms and style conventions, emphasizing readability and simplicity. \n",
      "6. What is a Python virtual environment? \n",
      "A virtual environment isolates Python packages and dependencies, allowing developers to manage project\n",
      "specific dependencies separately. \n",
      "7. How do you create a function in Python? \n",
      "Use the \"def\" keyword followed by the function name, parameters, and a colon. Define the function's body \n",
      "and optionally return a value.\n"
     ]
    }
   ],
   "source": [
    "# If an exception occurs when we are performing some operation with the file , the code exits eithout closing the file.\n",
    "# A safer way to use a try...finally block.\n",
    "\n",
    "try:\n",
    "    file1=open('Python.txt','r')\n",
    "    read_content=file1.read()\n",
    "    print(read_content)\n",
    "finally:\n",
    "    file1.close()"
   ]
  },
  {
   "cell_type": "code",
   "execution_count": 206,
   "id": "f1b51f70-cc26-471b-bdf1-b6a543374583",
   "metadata": {},
   "outputs": [
    {
     "name": "stdout",
     "output_type": "stream",
     "text": [
      "0.25\n"
     ]
    }
   ],
   "source": [
    "try:\n",
    "    numerator=10\n",
    "    denominator=40\n",
    "    result=numerator/denominator\n",
    "    print(result)\n",
    "except:\n",
    "    print(\"Error : Denominator cannot be '0'.\")"
   ]
  },
  {
   "cell_type": "markdown",
   "id": "6d7c5442-559e-4f36-bf71-ee2023d7f6dd",
   "metadata": {},
   "source": [
    "# Regular Expressions :"
   ]
  },
  {
   "cell_type": "code",
   "execution_count": null,
   "id": "9de5942c-4f0f-460a-8498-45e65d531487",
   "metadata": {},
   "outputs": [],
   "source": [
    "# Regular expressions (regex or regexp) are powerful tools for pattern matching and text manipulation in pattern.\n",
    "# They provide a concise and flexible way to search,match and manipulate strings based on specific patterns."
   ]
  },
  {
   "cell_type": "markdown",
   "id": "569f5a93-fd43-4902-a387-dba8653fdaf5",
   "metadata": {},
   "source": [
    "### RegEx functions - "
   ]
  },
  {
   "cell_type": "code",
   "execution_count": null,
   "id": "58f9ae92-aca4-46fa-bfa7-b20d8b2089f1",
   "metadata": {},
   "outputs": [],
   "source": [
    "# The 're' module offers a set of functions that allows us to search a string for a match. "
   ]
  },
  {
   "cell_type": "code",
   "execution_count": 243,
   "id": "1b0ea424-3d7f-4a07-ac95-dcb169f7ab29",
   "metadata": {},
   "outputs": [
    {
     "name": "stdin",
     "output_type": "stream",
     "text": [
      "Enter a string :  Marella\n"
     ]
    },
    {
     "name": "stdout",
     "output_type": "stream",
     "text": [
      "Matched ['Marella']\n"
     ]
    }
   ],
   "source": [
    "# 1.findall() - The findall() returns a list containing all matches.\n",
    "\n",
    "# Match Pattern\n",
    "import re\n",
    "user = input('Enter a string : ')\n",
    "txt=\"Marella\"\n",
    "x=re.findall(user,txt)\n",
    "\n",
    "if x:\n",
    "    print('Matched',x)\n",
    "else:\n",
    "    print('Not Matched',x)"
   ]
  },
  {
   "cell_type": "code",
   "execution_count": 245,
   "id": "28ee47fb-f13a-433c-aa7f-3c816b2ce6cf",
   "metadata": {},
   "outputs": [
    {
     "name": "stdout",
     "output_type": "stream",
     "text": [
      "[]\n"
     ]
    }
   ],
   "source": [
    "# Not matching pattern\n",
    "import re\n",
    "txt=\"The rain in the Spain\"\n",
    "x=re.findall(\"portugal\", txt)\n",
    "print(x)"
   ]
  },
  {
   "cell_type": "code",
   "execution_count": 251,
   "id": "5e2afae7-9b9f-4e53-bfde-46fdb424fd05",
   "metadata": {},
   "outputs": [
    {
     "name": "stdout",
     "output_type": "stream",
     "text": [
      "The first white spaced character is located in position :  22\n"
     ]
    }
   ],
   "source": [
    "# 2.search() - The search() function searches the string for a match and returns a match object if there is a match.\n",
    "               # If there are more than one match,only the first occurance of the match will be returned.\n",
    "\n",
    "import re\n",
    "txt=\"The rain in India is not a joke.\"\n",
    "x=re.search(\"o\",txt)\n",
    "print(\"The first white spaced character is located in position : \",x.start())"
   ]
  },
  {
   "cell_type": "code",
   "execution_count": 279,
   "id": "4223d575-2c0e-4f43-97de-f6f17c01d7c7",
   "metadata": {},
   "outputs": [
    {
     "name": "stdout",
     "output_type": "stream",
     "text": [
      "['The', 'rain', 'in', 'the', 'India.']\n"
     ]
    },
    {
     "name": "stderr",
     "output_type": "stream",
     "text": [
      "<>:5: SyntaxWarning: invalid escape sequence '\\s'\n",
      "<>:5: SyntaxWarning: invalid escape sequence '\\s'\n",
      "C:\\Users\\marel\\AppData\\Local\\Temp\\ipykernel_17008\\2043755136.py:5: SyntaxWarning: invalid escape sequence '\\s'\n",
      "  x=re.split(\"\\s\",txt)\n"
     ]
    }
   ],
   "source": [
    "# 3.split() - returns a list where the string has been split at each match.\n",
    "\n",
    "import re\n",
    "txt=\"The rain in the India.\"\n",
    "x=re.split(\"\\s\",txt)\n",
    "print(x)"
   ]
  },
  {
   "cell_type": "code",
   "execution_count": 281,
   "id": "355830d0-63d1-43b8-a081-69ecf798ff5f",
   "metadata": {},
   "outputs": [
    {
     "name": "stdout",
     "output_type": "stream",
     "text": [
      "['The', 'rain', 'in the India.']\n"
     ]
    },
    {
     "name": "stderr",
     "output_type": "stream",
     "text": [
      "<>:3: SyntaxWarning: invalid escape sequence '\\s'\n",
      "<>:3: SyntaxWarning: invalid escape sequence '\\s'\n",
      "C:\\Users\\marel\\AppData\\Local\\Temp\\ipykernel_17008\\1672728603.py:3: SyntaxWarning: invalid escape sequence '\\s'\n",
      "  x=re.split(\"\\s\",txt,2)\n"
     ]
    }
   ],
   "source": [
    "import re\n",
    "txt=\"The rain in the India.\"\n",
    "x=re.split(\"\\s\",txt,2)\n",
    "print(x)"
   ]
  },
  {
   "cell_type": "code",
   "execution_count": 277,
   "id": "414d364e-71ba-4b8a-adcb-298d2154779e",
   "metadata": {},
   "outputs": [
    {
     "name": "stdout",
     "output_type": "stream",
     "text": [
      "TheHellorainHelloinHellotheHellospain\n"
     ]
    },
    {
     "name": "stderr",
     "output_type": "stream",
     "text": [
      "<>:5: SyntaxWarning: invalid escape sequence '\\s'\n",
      "<>:5: SyntaxWarning: invalid escape sequence '\\s'\n",
      "C:\\Users\\marel\\AppData\\Local\\Temp\\ipykernel_17008\\3467754554.py:5: SyntaxWarning: invalid escape sequence '\\s'\n",
      "  x=re.sub(\"\\s\",\"Hello\",txt)\n"
     ]
    }
   ],
   "source": [
    "# 4.sub() - replaces one or many matches with a string.\n",
    "\n",
    "import re\n",
    "txt=\"The rain in the spain\"\n",
    "x=re.sub(\"\\s\",\"Hello\",txt)\n",
    "print(x)"
   ]
  },
  {
   "cell_type": "code",
   "execution_count": 285,
   "id": "eb54e79e-3465-4e70-a666-2937b38ddc70",
   "metadata": {},
   "outputs": [
    {
     "name": "stdout",
     "output_type": "stream",
     "text": [
      "The6rain6in6the6spain6is not a joke.\n"
     ]
    },
    {
     "name": "stderr",
     "output_type": "stream",
     "text": [
      "<>:3: SyntaxWarning: invalid escape sequence '\\s'\n",
      "<>:3: SyntaxWarning: invalid escape sequence '\\s'\n",
      "C:\\Users\\marel\\AppData\\Local\\Temp\\ipykernel_17008\\3959389864.py:3: SyntaxWarning: invalid escape sequence '\\s'\n",
      "  x=re.sub(\"\\s\",\"6\",txt,5)\n"
     ]
    }
   ],
   "source": [
    "import re\n",
    "txt=\"The rain in the spain is not a joke.\"\n",
    "x=re.sub(\"\\s\",\"6\",txt,5)\n",
    "print(x)"
   ]
  },
  {
   "cell_type": "markdown",
   "id": "cbec4810-0975-423d-9bd4-ad6b591a433e",
   "metadata": {},
   "source": [
    "# Lateral Characters - "
   ]
  },
  {
   "cell_type": "code",
   "execution_count": 296,
   "id": "49bdb035-6258-44a4-bc04-fc6e83b7d71c",
   "metadata": {},
   "outputs": [
    {
     "name": "stdout",
     "output_type": "stream",
     "text": [
      "Match Found : 'H'\n"
     ]
    }
   ],
   "source": [
    "# Regular characters match themselves.\n",
    "\n",
    "import re \n",
    "pattern = re.compile(r'H')\n",
    "match=pattern.search('Say Hello to Regex.')\n",
    "\n",
    "if match:\n",
    "    print(f\"Match Found : '{match.group()}'\")\n",
    "else:\n",
    "    print('Not Found')"
   ]
  },
  {
   "cell_type": "markdown",
   "id": "40ea36f7-16f4-4c92-9fd1-a54d6be26c7b",
   "metadata": {},
   "source": [
    "# Dot (.) Wildcard - "
   ]
  },
  {
   "cell_type": "code",
   "execution_count": 332,
   "id": "d4b3901c-cc75-4b9a-842a-309ff6a95f83",
   "metadata": {},
   "outputs": [
    {
     "name": "stdout",
     "output_type": "stream",
     "text": [
      "book\n"
     ]
    }
   ],
   "source": [
    "# The dot matches any single character (except for a new line character). 1 dot = 1 character\n",
    "\n",
    "import re \n",
    "\n",
    "pattern=re.compile(r'b..k')\n",
    "match=pattern.search(\" 'ant','cat','bat','mat','root','book','bike' \")\n",
    "\n",
    "if match:\n",
    "    print(match.group())\n",
    "else:\n",
    "    print(\"Match Not Found\")"
   ]
  },
  {
   "cell_type": "markdown",
   "id": "094cd95b-2082-42d5-b946-b9060cfc81a3",
   "metadata": {},
   "source": [
    "# Character Classes ( [] ) - "
   ]
  },
  {
   "cell_type": "code",
   "execution_count": 322,
   "id": "5f2a4a42-c417-4498-bd57-f82ee1aaabdd",
   "metadata": {},
   "outputs": [
    {
     "name": "stdout",
     "output_type": "stream",
     "text": [
      "Match Found :  H\n"
     ]
    }
   ],
   "source": [
    "# Square brackets define a character class, and the regex will match any single character within the brackets.\n",
    "# Note : only one character can befound . If you give a string it will take the first character of the string.\n",
    "\n",
    "import re \n",
    "\n",
    "pattern = re.compile(r'[Hello]')\n",
    "match=pattern.search('Hello,regex!')\n",
    "\n",
    "if match:\n",
    "    print('Match Found : ', match.group())\n",
    "else:\n",
    "    print('Not Found')"
   ]
  },
  {
   "cell_type": "code",
   "execution_count": 320,
   "id": "a2ed8fee-0d17-469e-9aed-8f6564255e41",
   "metadata": {},
   "outputs": [
    {
     "name": "stdout",
     "output_type": "stream",
     "text": [
      "Match Found :  g\n"
     ]
    }
   ],
   "source": [
    "import re \n",
    "\n",
    "pattern = re.compile(r'[g]')\n",
    "match=pattern.search('Hello,regex!')\n",
    "\n",
    "if match:\n",
    "    print('Match Found : ', match.group())\n",
    "else:\n",
    "    print('Not Found')"
   ]
  }
 ],
 "metadata": {
  "kernelspec": {
   "display_name": "Python 3 (ipykernel)",
   "language": "python",
   "name": "python3"
  },
  "language_info": {
   "codemirror_mode": {
    "name": "ipython",
    "version": 3
   },
   "file_extension": ".py",
   "mimetype": "text/x-python",
   "name": "python",
   "nbconvert_exporter": "python",
   "pygments_lexer": "ipython3",
   "version": "3.12.4"
  }
 },
 "nbformat": 4,
 "nbformat_minor": 5
}
